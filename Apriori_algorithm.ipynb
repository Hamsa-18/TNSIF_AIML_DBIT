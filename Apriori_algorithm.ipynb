{
  "nbformat": 4,
  "nbformat_minor": 0,
  "metadata": {
    "colab": {
      "provenance": [],
      "authorship_tag": "ABX9TyNQc2nX3ecXRec25tafmw+X",
      "include_colab_link": true
    },
    "kernelspec": {
      "name": "python3",
      "display_name": "Python 3"
    },
    "language_info": {
      "name": "python"
    }
  },
  "cells": [
    {
      "cell_type": "markdown",
      "metadata": {
        "id": "view-in-github",
        "colab_type": "text"
      },
      "source": [
        "<a href=\"https://colab.research.google.com/github/Hamsa-18/TNSIF_AIML_DBIT/blob/main/Apriori_algorithm.ipynb\" target=\"_parent\"><img src=\"https://colab.research.google.com/assets/colab-badge.svg\" alt=\"Open In Colab\"/></a>"
      ]
    },
    {
      "cell_type": "code",
      "execution_count": 1,
      "metadata": {
        "id": "Zpw_ToBmawr2"
      },
      "outputs": [],
      "source": [
        "import pandas as pd\n",
        "import itertools\n",
        "from pprint import pprint\n",
        "\n",
        "# Given dataset\n",
        "dataset = [\n",
        "    ['Coffee', 'Donut', 'Sandwich'],\n",
        "    ['Coffee', 'Donut'],\n",
        "    ['Coffee', 'Sandwich'],\n",
        "    ['Coffee', 'Muffin'],\n",
        "    ['Donut', 'Muffin']\n",
        "]"
      ]
    },
    {
      "cell_type": "code",
      "source": [
        "for idx, tx in enumerate(dataset, start=1):\n",
        "    print(f\"T{idx}: {tx}\")"
      ],
      "metadata": {
        "colab": {
          "base_uri": "https://localhost:8080/"
        },
        "id": "E3M8yMvxbQOJ",
        "outputId": "62096332-d64b-4d59-d21f-79249a29a334"
      },
      "execution_count": 2,
      "outputs": [
        {
          "output_type": "stream",
          "name": "stdout",
          "text": [
            "T1: ['Coffee', 'Donut', 'Sandwich']\n",
            "T2: ['Coffee', 'Donut']\n",
            "T3: ['Coffee', 'Sandwich']\n",
            "T4: ['Coffee', 'Muffin']\n",
            "T5: ['Donut', 'Muffin']\n"
          ]
        }
      ]
    },
    {
      "cell_type": "code",
      "source": [
        "import pandas as pd\n",
        "\n",
        "dataset = [\n",
        "    ['Coffee', 'Donut', 'Sandwich'],\n",
        "    ['Coffee', 'Donut'],\n",
        "    ['Coffee', 'Sandwich'],\n",
        "    ['Coffee', 'Muffin'],\n",
        "    ['Donut', 'Muffin']\n",
        "]\n",
        "items = sorted({item for tx in dataset for item in tx})\n",
        "\n",
        "ohe_df = pd.DataFrame([{it: (1 if it in tx else 0) for it in items} for tx in dataset])\n",
        "ohe_df.index = [f\"T{i+1}\" for i in range(len(dataset))]\n",
        "print(ohe_df)"
      ],
      "metadata": {
        "colab": {
          "base_uri": "https://localhost:8080/"
        },
        "id": "XpBBP0k0bQD7",
        "outputId": "fd006368-ea2a-4755-ad6c-c38f7cb99d45"
      },
      "execution_count": 4,
      "outputs": [
        {
          "output_type": "stream",
          "name": "stdout",
          "text": [
            "    Coffee  Donut  Muffin  Sandwich\n",
            "T1       1      1       0         1\n",
            "T2       1      1       0         0\n",
            "T3       1      0       0         1\n",
            "T4       1      0       1         0\n",
            "T5       0      1       1         0\n"
          ]
        }
      ]
    },
    {
      "cell_type": "code",
      "source": [
        "import itertools\n",
        "from collections import Counter\n",
        "\n",
        "dataset = [\n",
        "    ['Coffee', 'Donut', 'Sandwich'],\n",
        "    ['Coffee', 'Donut'],\n",
        "    ['Coffee', 'Sandwich'],\n",
        "    ['Coffee', 'Muffin'],\n",
        "    ['Donut', 'Muffin']\n",
        "]\n",
        "\n",
        "n = len(dataset)\n",
        "single_counts = Counter(item for tx in dataset for item in tx)\n",
        "pair_counts = Counter()\n",
        "for tx in dataset:\n",
        "    for a, b in itertools.combinations(sorted(tx), 2):\n",
        "        pair_counts[(a, b)] += 1\n",
        "\n",
        "min_support = 0.4\n",
        "\n",
        "print(\"Single item supports:\")\n",
        "for item, cnt in single_counts.items():\n",
        "    print(f\"  {item}: {cnt}/{n} = {cnt/n:.2f}\")\n",
        "\n",
        "print(\"\\nPair supports:\")\n",
        "for pair, cnt in pair_counts.items():\n",
        "    print(f\"  {pair}: {cnt}/{n} = {cnt/n:.2f}\")\n",
        "\n",
        "print(\"\\nFrequent itemsets (support >= 0.4):\")\n",
        "for item, cnt in single_counts.items():\n",
        "    if cnt/n >= min_support:\n",
        "        print(f\"  {{'{item}'}} -> {cnt/n:.2f}\")\n",
        "for pair, cnt in pair_counts.items():\n",
        "    if cnt/n >= min_support:\n",
        "        print(f\"  {set(pair)} -> {cnt/n:.2f}\")\n"
      ],
      "metadata": {
        "colab": {
          "base_uri": "https://localhost:8080/"
        },
        "id": "WVxq0bihbPuX",
        "outputId": "1424e395-bb60-4c38-e589-c85e1dcf1e6f"
      },
      "execution_count": 5,
      "outputs": [
        {
          "output_type": "stream",
          "name": "stdout",
          "text": [
            "Single item supports:\n",
            "  Coffee: 4/5 = 0.80\n",
            "  Donut: 3/5 = 0.60\n",
            "  Sandwich: 2/5 = 0.40\n",
            "  Muffin: 2/5 = 0.40\n",
            "\n",
            "Pair supports:\n",
            "  ('Coffee', 'Donut'): 2/5 = 0.40\n",
            "  ('Coffee', 'Sandwich'): 2/5 = 0.40\n",
            "  ('Donut', 'Sandwich'): 1/5 = 0.20\n",
            "  ('Coffee', 'Muffin'): 1/5 = 0.20\n",
            "  ('Donut', 'Muffin'): 1/5 = 0.20\n",
            "\n",
            "Frequent itemsets (support >= 0.4):\n",
            "  {'Coffee'} -> 0.80\n",
            "  {'Donut'} -> 0.60\n",
            "  {'Sandwich'} -> 0.40\n",
            "  {'Muffin'} -> 0.40\n",
            "  {'Donut', 'Coffee'} -> 0.40\n",
            "  {'Sandwich', 'Coffee'} -> 0.40\n"
          ]
        }
      ]
    },
    {
      "cell_type": "code",
      "source": [
        "import itertools\n",
        "from collections import Counter\n",
        "\n",
        "dataset = [\n",
        "    ['Coffee', 'Donut', 'Sandwich'],\n",
        "    ['Coffee', 'Donut'],\n",
        "    ['Coffee', 'Sandwich'],\n",
        "    ['Coffee', 'Muffin'],\n",
        "    ['Donut', 'Muffin']\n",
        "]\n",
        "n = len(dataset)\n",
        "single_counts = Counter(item for tx in dataset for item in tx)\n",
        "pair_counts = Counter()\n",
        "for tx in dataset:\n",
        "    for a,b in itertools.combinations(sorted(tx),2):\n",
        "        pair_counts[(a,b)] += 1\n",
        "\n",
        "min_support = 0.4\n",
        "\n",
        "rules = []\n",
        "for pair, cnt in pair_counts.items():\n",
        "    support_pair = cnt / n\n",
        "    if support_pair < min_support:\n",
        "        continue\n",
        "    a, b = pair\n",
        "    sup_a = single_counts[a] / n\n",
        "    sup_b = single_counts[b] / n\n",
        "    conf_a_b = support_pair / sup_a\n",
        "    lift_a_b = conf_a_b / sup_b\n",
        "    rules.append(( (a,), (b,), support_pair, conf_a_b, lift_a_b ))\n",
        "    conf_b_a = support_pair / sup_b\n",
        "    lift_b_a = conf_b_a / sup_a\n",
        "    rules.append(( (b,), (a,), support_pair, conf_b_a, lift_b_a ))\n",
        "\n",
        "print(\"antecedent -> consequent | support | confidence | lift\")\n",
        "for A, B, sup, conf, lift in rules:\n",
        "    print(f\"{A} -> {B} | {sup:.2f} | {conf:.2f} | {lift:.2f}\")\n"
      ],
      "metadata": {
        "colab": {
          "base_uri": "https://localhost:8080/"
        },
        "id": "DOy3GCFRbuRA",
        "outputId": "8cb80fc7-42ca-4a16-fc1e-12ddcc84ba6b"
      },
      "execution_count": 6,
      "outputs": [
        {
          "output_type": "stream",
          "name": "stdout",
          "text": [
            "antecedent -> consequent | support | confidence | lift\n",
            "('Coffee',) -> ('Donut',) | 0.40 | 0.50 | 0.83\n",
            "('Donut',) -> ('Coffee',) | 0.40 | 0.67 | 0.83\n",
            "('Coffee',) -> ('Sandwich',) | 0.40 | 0.50 | 1.25\n",
            "('Sandwich',) -> ('Coffee',) | 0.40 | 1.00 | 1.25\n"
          ]
        }
      ]
    },
    {
      "cell_type": "code",
      "source": [
        "import itertools\n",
        "from collections import Counter\n",
        "\n",
        "dataset = [\n",
        "    ['Coffee', 'Donut', 'Sandwich'],\n",
        "    ['Coffee', 'Donut'],\n",
        "    ['Coffee', 'Sandwich'],\n",
        "    ['Coffee', 'Muffin'],\n",
        "    ['Donut', 'Muffin']\n",
        "]\n",
        "n = len(dataset)\n",
        "single_counts = Counter(item for tx in dataset for item in tx)\n",
        "pair_counts = Counter()\n",
        "for tx in dataset:\n",
        "    for a,b in itertools.combinations(sorted(tx),2):\n",
        "        pair_counts[(a,b)] += 1\n",
        "\n",
        "min_support = 0.4\n",
        "min_confidence = 0.6\n",
        "\n",
        "valid_rules = []\n",
        "for pair, cnt in pair_counts.items():\n",
        "    support_pair = cnt / n\n",
        "    if support_pair < min_support:\n",
        "        continue\n",
        "    a,b = pair\n",
        "    sup_a = single_counts[a]/n\n",
        "    sup_b = single_counts[b]/n\n",
        "    conf_a_b = support_pair / sup_a\n",
        "    if conf_a_b >= min_confidence:\n",
        "        valid_rules.append((a,b,support_pair,conf_a_b, conf_a_b / sup_b))\n",
        "    conf_b_a = support_pair / sup_b\n",
        "    if conf_b_a >= min_confidence:\n",
        "        valid_rules.append((b,a,support_pair,conf_b_a, conf_b_a / sup_a))\n",
        "\n",
        "print(\"Rules meeting support >= 0.4 and confidence >= 0.6:\")\n",
        "if not valid_rules:\n",
        "    print(\"  (none)\")\n",
        "else:\n",
        "    for a,b,sup,conf,lift in valid_rules:\n",
        "        print(f\"  {a} -> {b} | support={sup:.2f} conf={conf:.2f} lift={lift:.2f}\")\n"
      ],
      "metadata": {
        "colab": {
          "base_uri": "https://localhost:8080/"
        },
        "id": "IISXv4r1bt8f",
        "outputId": "762696d1-5687-4326-a2ff-0a9a54665f5c"
      },
      "execution_count": 7,
      "outputs": [
        {
          "output_type": "stream",
          "name": "stdout",
          "text": [
            "Rules meeting support >= 0.4 and confidence >= 0.6:\n",
            "  Donut -> Coffee | support=0.40 conf=0.67 lift=0.83\n",
            "  Sandwich -> Coffee | support=0.40 conf=1.00 lift=1.25\n"
          ]
        }
      ]
    },
    {
      "cell_type": "code",
      "source": [
        "import itertools\n",
        "from collections import Counter\n",
        "\n",
        "dataset = [\n",
        "    ['Coffee', 'Donut', 'Sandwich'],\n",
        "    ['Coffee', 'Donut'],\n",
        "    ['Coffee', 'Sandwich'],\n",
        "    ['Coffee', 'Muffin'],\n",
        "    ['Donut', 'Muffin']\n",
        "]\n",
        "n = len(dataset)\n",
        "single_counts = Counter(item for tx in dataset for item in tx)\n",
        "pair_counts = Counter()\n",
        "for tx in dataset:\n",
        "    for a,b in itertools.combinations(sorted(tx),2):\n",
        "        pair_counts[(a,b)] += 1\n",
        "candidates = []\n",
        "for pair, cnt in pair_counts.items():\n",
        "    support_pair = cnt / n\n",
        "    a,b = pair\n",
        "    sup_a = single_counts[a]/n\n",
        "    sup_b = single_counts[b]/n\n",
        "    candidates.append((a,b,support_pair, support_pair/sup_a, (support_pair/sup_a)/sup_b))\n",
        "    candidates.append((b,a,support_pair, support_pair/sup_b, (support_pair/sup_b)/sup_a))\n",
        "best = max(candidates, key=lambda x: x[3])\n",
        "a,b,sup,conf,lift = best\n",
        "print(f\"If a customer buys {a}, they are likely to buy {b} too. (support={sup:.2f}, confidence={conf:.2f}, lift={lift:.2f})\")\n"
      ],
      "metadata": {
        "colab": {
          "base_uri": "https://localhost:8080/"
        },
        "id": "lhopqZjRcAHg",
        "outputId": "78eddb5e-cbc8-4d68-934e-7e2a5b108298"
      },
      "execution_count": 8,
      "outputs": [
        {
          "output_type": "stream",
          "name": "stdout",
          "text": [
            "If a customer buys Sandwich, they are likely to buy Coffee too. (support=0.40, confidence=1.00, lift=1.25)\n"
          ]
        }
      ]
    },
    {
      "cell_type": "code",
      "source": [
        "import itertools\n",
        "from collections import Counter\n",
        "\n",
        "dataset = [\n",
        "    ['Coffee', 'Donut', 'Sandwich'],\n",
        "    ['Coffee', 'Donut'],\n",
        "    ['Coffee', 'Sandwich'],\n",
        "    ['Coffee', 'Muffin'],\n",
        "    ['Donut', 'Muffin']\n",
        "]\n",
        "n = len(dataset)\n",
        "single_counts = Counter(item for tx in dataset for item in tx)\n",
        "pair_counts = Counter()\n",
        "for tx in dataset:\n",
        "    for a,b in itertools.combinations(sorted(tx),2):\n",
        "        pair_counts[(a,b)] += 1\n",
        "\n",
        "def rules_count_for_support(ms):\n",
        "    cnt_rules = 0\n",
        "    for pair, c in pair_counts.items():\n",
        "        support_pair = c / n\n",
        "        if support_pair >= ms:\n",
        "            cnt_rules += 2  # a->b and b->a\n",
        "    return cnt_rules\n",
        "\n",
        "print(\"Changing min_support:\")\n",
        "for ms in [0.2, 0.3, 0.4, 0.6]:\n",
        "    print(f\"  min_support={ms} -> candidate_rules={rules_count_for_support(ms)}\")\n",
        "\n",
        "def rules_meeting_conf(min_conf):\n",
        "    valid = 0\n",
        "    for pair, c in pair_counts.items():\n",
        "        sup_pair = c / n\n",
        "        a,b = pair\n",
        "        sup_a = single_counts[a]/n\n",
        "        sup_b = single_counts[b]/n\n",
        "        conf_a_b = sup_pair / sup_a\n",
        "        conf_b_a = sup_pair / sup_b\n",
        "        if conf_a_b >= min_conf:\n",
        "            valid += 1\n",
        "        if conf_b_a >= min_conf:\n",
        "            valid += 1\n",
        "    return valid\n",
        "\n",
        "print(\"\\nChanging min_confidence (keeping min_support = 0.4):\")\n",
        "for mc in [0.4, 0.5, 0.6, 0.8, 1.0]:\n",
        "    print(f\"  min_confidence={mc} -> rules_after_conf_filter={rules_meeting_conf(mc)}\")\n"
      ],
      "metadata": {
        "colab": {
          "base_uri": "https://localhost:8080/"
        },
        "id": "23budM2scPcr",
        "outputId": "c842af7c-e186-4bbb-e13a-2e32ff4860e7"
      },
      "execution_count": 9,
      "outputs": [
        {
          "output_type": "stream",
          "name": "stdout",
          "text": [
            "Changing min_support:\n",
            "  min_support=0.2 -> candidate_rules=10\n",
            "  min_support=0.3 -> candidate_rules=4\n",
            "  min_support=0.4 -> candidate_rules=4\n",
            "  min_support=0.6 -> candidate_rules=0\n",
            "\n",
            "Changing min_confidence (keeping min_support = 0.4):\n",
            "  min_confidence=0.4 -> rules_after_conf_filter=7\n",
            "  min_confidence=0.5 -> rules_after_conf_filter=7\n",
            "  min_confidence=0.6 -> rules_after_conf_filter=2\n",
            "  min_confidence=0.8 -> rules_after_conf_filter=1\n",
            "  min_confidence=1.0 -> rules_after_conf_filter=1\n"
          ]
        }
      ]
    },
    {
      "cell_type": "code",
      "source": [
        "conf_example = 1.0\n",
        "support_B_example = 0.8\n",
        "lift = conf_example / support_B_example\n",
        "print(f\"Lift example = {lift:.2f}  (if >1, A and B are positively associated)\")\n"
      ],
      "metadata": {
        "colab": {
          "base_uri": "https://localhost:8080/"
        },
        "id": "d0NVkiIDcPSv",
        "outputId": "e0ffd5c3-06ab-40ce-fba4-8cc334ae65a6"
      },
      "execution_count": 10,
      "outputs": [
        {
          "output_type": "stream",
          "name": "stdout",
          "text": [
            "Lift example = 1.25  (if >1, A and B are positively associated)\n"
          ]
        }
      ]
    }
  ]
}