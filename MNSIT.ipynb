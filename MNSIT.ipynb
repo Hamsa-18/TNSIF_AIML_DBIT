{
  "nbformat": 4,
  "nbformat_minor": 0,
  "metadata": {
    "colab": {
      "provenance": [],
      "authorship_tag": "ABX9TyNfY8h1DWKUVFKCVXvAw5Yk",
      "include_colab_link": true
    },
    "kernelspec": {
      "name": "python3",
      "display_name": "Python 3"
    },
    "language_info": {
      "name": "python"
    }
  },
  "cells": [
    {
      "cell_type": "markdown",
      "metadata": {
        "id": "view-in-github",
        "colab_type": "text"
      },
      "source": [
        "<a href=\"https://colab.research.google.com/github/Hamsa-18/TNSIF_AIML_DBIT/blob/main/MNSIT.ipynb\" target=\"_parent\"><img src=\"https://colab.research.google.com/assets/colab-badge.svg\" alt=\"Open In Colab\"/></a>"
      ]
    },
    {
      "cell_type": "code",
      "execution_count": 1,
      "metadata": {
        "id": "V2SS4JTeHTas"
      },
      "outputs": [],
      "source": [
        "import tensorflow as tf\n",
        "from tensorflow import keras\n",
        "import numpy as np\n",
        "import matplotlib.pyplot as plt\n",
        "\n",
        "tf.random.set_seed(42)\n",
        "np.random.seed(42)"
      ]
    },
    {
      "cell_type": "code",
      "source": [
        "(x_train, y_train), (x_test, y_test) = keras.datasets.mnist.load_data()\n",
        "\n",
        "print(\"x_train shape:\", x_train.shape)   # (60000, 28, 28)\n",
        "print(\"y_train shape:\", y_train.shape)   # (60000,)\n",
        "print(\"x_test shape: \", x_test.shape)    # (10000, 28, 28)\n",
        "print(\"y_test shape: \", y_test.shape)    # (10000,)\n",
        "\n",
        "plt.figure(figsize=(3,3))\n",
        "plt.imshow(x_train[0], cmap='gray')\n",
        "plt.title(f\"First image - label = {y_train[0]}\")\n",
        "plt.axis('off')\n",
        "plt.show()\n",
        "\n",
        "print(\"Label of first image:\", y_train[0])\n"
      ],
      "metadata": {
        "colab": {
          "base_uri": "https://localhost:8080/",
          "height": 411
        },
        "id": "o1kHbCwbHfiG",
        "outputId": "3db6508e-a842-49e2-a072-532edd888279"
      },
      "execution_count": 2,
      "outputs": [
        {
          "output_type": "stream",
          "name": "stdout",
          "text": [
            "Downloading data from https://storage.googleapis.com/tensorflow/tf-keras-datasets/mnist.npz\n",
            "\u001b[1m11490434/11490434\u001b[0m \u001b[32m━━━━━━━━━━━━━━━━━━━━\u001b[0m\u001b[37m\u001b[0m \u001b[1m1s\u001b[0m 0us/step\n",
            "x_train shape: (60000, 28, 28)\n",
            "y_train shape: (60000,)\n",
            "x_test shape:  (10000, 28, 28)\n",
            "y_test shape:  (10000,)\n"
          ]
        },
        {
          "output_type": "display_data",
          "data": {
            "text/plain": [
              "<Figure size 300x300 with 1 Axes>"
            ],
            "image/png": "[encoded data removed]"
          },
          "metadata": {}
        },
        {
          "output_type": "stream",
          "name": "stdout",
          "text": [
            "Label of first image: 5\n"
          ]
        }
      ]
    },
    {
      "cell_type": "code",
      "source": [
        "from tensorflow import keras\n",
        "(x_train, y_train), (x_test, y_test) = keras.datasets.mnist.load_data()\n",
        "\n",
        "print(\"Before Normalization:\")\n",
        "print(\"Min pixel value:\", x_train[0].min())\n",
        "print(\"Max pixel value:\", x_train[0].max())\n",
        "print(\"First 10 pixel values (first row):\", x_train[0][0][:10])\n",
        "\n",
        "x_train = x_train.astype('float32') / 255.0\n",
        "x_test  = x_test.astype('float32') / 255.0\n",
        "print(\"\\nAfter Normalization:\")\n",
        "print(\"Min pixel value:\", x_train[0].min())\n",
        "print(\"Max pixel value:\", x_train[0].max())\n",
        "print(\"First 10 pixel values (first row):\", x_train[0][0][:10])\n"
      ],
      "metadata": {
        "colab": {
          "base_uri": "https://localhost:8080/"
        },
        "id": "Z9JYlC2gLTyJ",
        "outputId": "05dee878-1361-41a9-a158-f9c1c239b96e"
      },
      "execution_count": 16,
      "outputs": [
        {
          "output_type": "stream",
          "name": "stdout",
          "text": [
            "Before Normalization:\n",
            "Min pixel value: 0\n",
            "Max pixel value: 255\n",
            "First 10 pixel values (first row): [0 0 0 0 0 0 0 0 0 0]\n",
            "\n",
            "After Normalization:\n",
            "Min pixel value: 0.0\n",
            "Max pixel value: 1.0\n",
            "First 10 pixel values (first row): [0. 0. 0. 0. 0. 0. 0. 0. 0. 0.]\n"
          ]
        }
      ]
    },
    {
      "cell_type": "code",
      "source": [
        "def build_model(activation='relu', optimizer='adam', include_32_layer=False):\n",
        "    layers = [\n",
        "        keras.layers.Flatten(input_shape=(28,28)),\n",
        "        keras.layers.Dense(128, activation=activation),\n",
        "        keras.layers.Dense(64, activation=activation)\n",
        "    ]\n",
        "    if include_32_layer:\n",
        "        layers.append(keras.layers.Dense(32, activation=activation))\n",
        "    layers.append(keras.layers.Dense(10, activation='softmax'))\n",
        "    model = keras.models.Sequential(layers)\n",
        "    model.compile(optimizer=optimizer,\n",
        "                  loss='sparse_categorical_crossentropy',\n",
        "                  metrics=['accuracy'])\n",
        "    return model"
      ],
      "metadata": {
        "id": "8oPLcVHtHfb8"
      },
      "execution_count": 18,
      "outputs": []
    },
    {
      "cell_type": "code",
      "source": [
        "model = build_model(activation='relu', optimizer='adam', include_32_layer=False)\n",
        "model.summary()"
      ],
      "metadata": {
        "colab": {
          "base_uri": "https://localhost:8080/",
          "height": 312
        },
        "id": "wvrjBaLSHfZX",
        "outputId": "b29742ae-0e9c-45c5-a003-164a8f346ecb"
      },
      "execution_count": 5,
      "outputs": [
        {
          "output_type": "stream",
          "name": "stderr",
          "text": [
            "/usr/local/lib/python3.12/dist-packages/keras/src/layers/reshaping/flatten.py:37: UserWarning: Do not pass an `input_shape`/`input_dim` argument to a layer. When using Sequential models, prefer using an `Input(shape)` object as the first layer in the model instead.\n",
            "  super().__init__(**kwargs)\n"
          ]
        },
        {
          "output_type": "display_data",
          "data": {
            "text/plain": [
              "\u001b[1mModel: \"sequential\"\u001b[0m\n"
            ],
            "text/html": [
              "<pre style=\"white-space:pre;overflow-x:auto;line-height:normal;font-family:Menlo,'DejaVu Sans Mono',consolas,'Courier New',monospace\"><span style=\"font-weight: bold\">Model: \"sequential\"</span>\n",
              "</pre>\n"
            ]
          },
          "metadata": {}
        },
        {
          "output_type": "display_data",
          "data": {
            "text/plain": [
              "┏━━━━━━━━━━━━━━━━━━━━━━━━━━━━━━━━━┳━━━━━━━━━━━━━━━━━━━━━━━━┳━━━━━━━━━━━━━━━┓\n",
              "┃\u001b[1m \u001b[0m\u001b[1mLayer (type)                   \u001b[0m\u001b[1m \u001b[0m┃\u001b[1m \u001b[0m\u001b[1mOutput Shape          \u001b[0m\u001b[1m \u001b[0m┃\u001b[1m \u001b[0m\u001b[1m      Param #\u001b[0m\u001b[1m \u001b[0m┃\n",
              "┡━━━━━━━━━━━━━━━━━━━━━━━━━━━━━━━━━╇━━━━━━━━━━━━━━━━━━━━━━━━╇━━━━━━━━━━━━━━━┩\n",
              "│ flatten (\u001b[38;5;33mFlatten\u001b[0m)               │ (\u001b[38;5;45mNone\u001b[0m, \u001b[38;5;34m784\u001b[0m)            │             \u001b[38;5;34m0\u001b[0m │\n",
              "├─────────────────────────────────┼────────────────────────┼───────────────┤\n",
              "│ dense (\u001b[38;5;33mDense\u001b[0m)                   │ (\u001b[38;5;45mNone\u001b[0m, \u001b[38;5;34m128\u001b[0m)            │       \u001b[38;5;34m100,480\u001b[0m │\n",
              "├─────────────────────────────────┼────────────────────────┼───────────────┤\n",
              "│ dense_1 (\u001b[38;5;33mDense\u001b[0m)                 │ (\u001b[38;5;45mNone\u001b[0m, \u001b[38;5;34m64\u001b[0m)             │         \u001b[38;5;34m8,256\u001b[0m │\n",
              "├─────────────────────────────────┼────────────────────────┼───────────────┤\n",
              "│ dense_2 (\u001b[38;5;33mDense\u001b[0m)                 │ (\u001b[38;5;45mNone\u001b[0m, \u001b[38;5;34m10\u001b[0m)             │           \u001b[38;5;34m650\u001b[0m │\n",
              "└─────────────────────────────────┴────────────────────────┴───────────────┘\n"
            ],
            "text/html": [
              "<pre style=\"white-space:pre;overflow-x:auto;line-height:normal;font-family:Menlo,'DejaVu Sans Mono',consolas,'Courier New',monospace\">┏━━━━━━━━━━━━━━━━━━━━━━━━━━━━━━━━━┳━━━━━━━━━━━━━━━━━━━━━━━━┳━━━━━━━━━━━━━━━┓\n",
              "┃<span style=\"font-weight: bold\"> Layer (type)                    </span>┃<span style=\"font-weight: bold\"> Output Shape           </span>┃<span style=\"font-weight: bold\">       Param # </span>┃\n",
              "┡━━━━━━━━━━━━━━━━━━━━━━━━━━━━━━━━━╇━━━━━━━━━━━━━━━━━━━━━━━━╇━━━━━━━━━━━━━━━┩\n",
              "│ flatten (<span style=\"color: #0087ff; text-decoration-color: #0087ff\">Flatten</span>)               │ (<span style=\"color: #00d7ff; text-decoration-color: #00d7ff\">None</span>, <span style=\"color: #00af00; text-decoration-color: #00af00\">784</span>)            │             <span style=\"color: #00af00; text-decoration-color: #00af00\">0</span> │\n",
              "├─────────────────────────────────┼────────────────────────┼───────────────┤\n",
              "│ dense (<span style=\"color: #0087ff; text-decoration-color: #0087ff\">Dense</span>)                   │ (<span style=\"color: #00d7ff; text-decoration-color: #00d7ff\">None</span>, <span style=\"color: #00af00; text-decoration-color: #00af00\">128</span>)            │       <span style=\"color: #00af00; text-decoration-color: #00af00\">100,480</span> │\n",
              "├─────────────────────────────────┼────────────────────────┼───────────────┤\n",
              "│ dense_1 (<span style=\"color: #0087ff; text-decoration-color: #0087ff\">Dense</span>)                 │ (<span style=\"color: #00d7ff; text-decoration-color: #00d7ff\">None</span>, <span style=\"color: #00af00; text-decoration-color: #00af00\">64</span>)             │         <span style=\"color: #00af00; text-decoration-color: #00af00\">8,256</span> │\n",
              "├─────────────────────────────────┼────────────────────────┼───────────────┤\n",
              "│ dense_2 (<span style=\"color: #0087ff; text-decoration-color: #0087ff\">Dense</span>)                 │ (<span style=\"color: #00d7ff; text-decoration-color: #00d7ff\">None</span>, <span style=\"color: #00af00; text-decoration-color: #00af00\">10</span>)             │           <span style=\"color: #00af00; text-decoration-color: #00af00\">650</span> │\n",
              "└─────────────────────────────────┴────────────────────────┴───────────────┘\n",
              "</pre>\n"
            ]
          },
          "metadata": {}
        },
        {
          "output_type": "display_data",
          "data": {
            "text/plain": [
              "\u001b[1m Total params: \u001b[0m\u001b[38;5;34m109,386\u001b[0m (427.29 KB)\n"
            ],
            "text/html": [
              "<pre style=\"white-space:pre;overflow-x:auto;line-height:normal;font-family:Menlo,'DejaVu Sans Mono',consolas,'Courier New',monospace\"><span style=\"font-weight: bold\"> Total params: </span><span style=\"color: #00af00; text-decoration-color: #00af00\">109,386</span> (427.29 KB)\n",
              "</pre>\n"
            ]
          },
          "metadata": {}
        },
        {
          "output_type": "display_data",
          "data": {
            "text/plain": [
              "\u001b[1m Trainable params: \u001b[0m\u001b[38;5;34m109,386\u001b[0m (427.29 KB)\n"
            ],
            "text/html": [
              "<pre style=\"white-space:pre;overflow-x:auto;line-height:normal;font-family:Menlo,'DejaVu Sans Mono',consolas,'Courier New',monospace\"><span style=\"font-weight: bold\"> Trainable params: </span><span style=\"color: #00af00; text-decoration-color: #00af00\">109,386</span> (427.29 KB)\n",
              "</pre>\n"
            ]
          },
          "metadata": {}
        },
        {
          "output_type": "display_data",
          "data": {
            "text/plain": [
              "\u001b[1m Non-trainable params: \u001b[0m\u001b[38;5;34m0\u001b[0m (0.00 B)\n"
            ],
            "text/html": [
              "<pre style=\"white-space:pre;overflow-x:auto;line-height:normal;font-family:Menlo,'DejaVu Sans Mono',consolas,'Courier New',monospace\"><span style=\"font-weight: bold\"> Non-trainable params: </span><span style=\"color: #00af00; text-decoration-color: #00af00\">0</span> (0.00 B)\n",
              "</pre>\n"
            ]
          },
          "metadata": {}
        }
      ]
    },
    {
      "cell_type": "code",
      "source": [
        "history_5 = model.fit(x_train_norm, y_train, epochs=5, batch_size=32, validation_split=0.1, verbose=2)\n",
        "\n",
        "train_acc_after_5 = history_5.history['accuracy'][-1]\n",
        "print(f\"Training accuracy after 5 epochs: {train_acc_after_5:.4f}\")\n",
        "\n",
        "\n",
        "model_10 = build_model()\n",
        "history_10 = model_10.fit(x_train_norm, y_train, epochs=10, batch_size=32, validation_split=0.1, verbose=2)\n",
        "train_acc_after_10 = history_10.history['accuracy'][-1]\n",
        "print(f\"Training accuracy after 10 epochs: {train_acc_after_10:.4f}\")"
      ],
      "metadata": {
        "colab": {
          "base_uri": "https://localhost:8080/"
        },
        "id": "0B1Q19wULt7E",
        "outputId": "af35562e-5aa2-4441-873b-9677cd393094"
      },
      "execution_count": 17,
      "outputs": [
        {
          "output_type": "stream",
          "name": "stdout",
          "text": [
            "Epoch 1/5\n",
            "1688/1688 - 6s - 3ms/step - accuracy: 0.9894 - loss: 0.0322 - val_accuracy: 0.9708 - val_loss: 0.1175\n",
            "Epoch 2/5\n",
            "1688/1688 - 5s - 3ms/step - accuracy: 0.9911 - loss: 0.0267 - val_accuracy: 0.9727 - val_loss: 0.1100\n",
            "Epoch 3/5\n",
            "1688/1688 - 6s - 4ms/step - accuracy: 0.9926 - loss: 0.0226 - val_accuracy: 0.9750 - val_loss: 0.1055\n",
            "Epoch 4/5\n",
            "1688/1688 - 5s - 3ms/step - accuracy: 0.9936 - loss: 0.0197 - val_accuracy: 0.9747 - val_loss: 0.1069\n",
            "Epoch 5/5\n",
            "1688/1688 - 6s - 4ms/step - accuracy: 0.9941 - loss: 0.0178 - val_accuracy: 0.9785 - val_loss: 0.1039\n",
            "Training accuracy after 5 epochs: 0.9941\n",
            "Epoch 1/10\n",
            "1688/1688 - 6s - 4ms/step - accuracy: 0.9266 - loss: 0.2513 - val_accuracy: 0.9693 - val_loss: 0.1089\n",
            "Epoch 2/10\n",
            "1688/1688 - 6s - 4ms/step - accuracy: 0.9683 - loss: 0.1059 - val_accuracy: 0.9717 - val_loss: 0.0955\n",
            "Epoch 3/10\n",
            "1688/1688 - 5s - 3ms/step - accuracy: 0.9777 - loss: 0.0722 - val_accuracy: 0.9720 - val_loss: 0.0902\n",
            "Epoch 4/10\n",
            "1688/1688 - 5s - 3ms/step - accuracy: 0.9839 - loss: 0.0520 - val_accuracy: 0.9718 - val_loss: 0.0957\n",
            "Epoch 5/10\n",
            "1688/1688 - 6s - 4ms/step - accuracy: 0.9873 - loss: 0.0403 - val_accuracy: 0.9713 - val_loss: 0.1069\n",
            "Epoch 6/10\n",
            "1688/1688 - 5s - 3ms/step - accuracy: 0.9891 - loss: 0.0327 - val_accuracy: 0.9732 - val_loss: 0.1050\n",
            "Epoch 7/10\n",
            "1688/1688 - 6s - 4ms/step - accuracy: 0.9909 - loss: 0.0273 - val_accuracy: 0.9737 - val_loss: 0.0996\n",
            "Epoch 8/10\n",
            "1688/1688 - 5s - 3ms/step - accuracy: 0.9919 - loss: 0.0246 - val_accuracy: 0.9690 - val_loss: 0.1471\n",
            "Epoch 9/10\n",
            "1688/1688 - 7s - 4ms/step - accuracy: 0.9932 - loss: 0.0206 - val_accuracy: 0.9733 - val_loss: 0.1116\n",
            "Epoch 10/10\n",
            "1688/1688 - 5s - 3ms/step - accuracy: 0.9928 - loss: 0.0216 - val_accuracy: 0.9773 - val_loss: 0.1065\n",
            "Training accuracy after 10 epochs: 0.9928\n"
          ]
        }
      ]
    },
    {
      "cell_type": "code",
      "source": [
        "test_loss, test_acc = model_10.evaluate(x_test_norm, y_test, verbose=2)\n",
        "print(f\"Test accuracy: {test_acc:.4f}\")\n",
        "\n",
        "print(\"Last training accuracy (10 epochs):\", train_acc_after_10)\n",
        "print(\"Test accuracy:\", test_acc)\n",
        "if train_acc_after_10 > test_acc:\n",
        "    print(\"Training accuracy is higher -> possible slight overfitting.\")\n",
        "elif train_acc_after_10 < test_acc:\n",
        "    print(\"Test accuracy is higher (uncommon) -> maybe random variation or small train/val split effect.\")\n",
        "else:\n",
        "    print(\"Training and test accuracy are equal.\")"
      ],
      "metadata": {
        "colab": {
          "base_uri": "https://localhost:8080/"
        },
        "id": "zId3bewIJDPC",
        "outputId": "d6df6ce2-6cee-44a7-ef98-9951f11421a8"
      },
      "execution_count": 7,
      "outputs": [
        {
          "output_type": "stream",
          "name": "stdout",
          "text": [
            "313/313 - 1s - 2ms/step - accuracy: 0.9727 - loss: 0.1119\n",
            "Test accuracy: 0.9727\n",
            "Last training accuracy (10 epochs): 0.9934259057044983\n",
            "Test accuracy: 0.9726999998092651\n",
            "Training accuracy is higher -> possible slight overfitting.\n"
          ]
        }
      ]
    },
    {
      "cell_type": "code",
      "source": [
        "preds = model_10.predict(x_test_norm)\n",
        "print(\"Predicted probabilities for first test image:\\n\", preds[0])\n",
        "predicted_digit = np.argmax(preds[0])\n",
        "print(\"Predicted digit (argmax):\", predicted_digit)\n",
        "print(\"Predicted:\", predicted_digit, \"Actual:\", y_test[0])\n",
        "plt.figure(figsize=(3,3))\n",
        "plt.imshow(x_test[0], cmap='gray')\n",
        "plt.title(f\"Predicted: {predicted_digit}   Actual: {y_test[0]}\")\n",
        "plt.axis('off')\n",
        "plt.show()"
      ],
      "metadata": {
        "colab": {
          "base_uri": "https://localhost:8080/",
          "height": 394
        },
        "id": "dMaT4yDCJMif",
        "outputId": "60d92acc-da7f-4cc1-e662-bb02260be8a7"
      },
      "execution_count": 8,
      "outputs": [
        {
          "output_type": "stream",
          "name": "stdout",
          "text": [
            "\u001b[1m313/313\u001b[0m \u001b[32m━━━━━━━━━━━━━━━━━━━━\u001b[0m\u001b[37m\u001b[0m \u001b[1m1s\u001b[0m 2ms/step\n",
            "Predicted probabilities for first test image:\n",
            " [1.3510637e-10 1.0994100e-06 7.3423068e-09 4.4877344e-04 1.9932796e-14\n",
            " 2.6817284e-07 1.8884151e-15 9.9954957e-01 3.8036843e-10 3.6452170e-07]\n",
            "Predicted digit (argmax): 7\n",
            "Predicted: 7 Actual: 7\n"
          ]
        },
        {
          "output_type": "display_data",
          "data": {
            "text/plain": [
              "<Figure size 300x300 with 1 Axes>"
            ],
            "image/png": "[encoded data removed]"
          },
          "metadata": {}
        }
      ]
    },
    {
      "cell_type": "markdown",
      "source": [
        "Changes\n"
      ],
      "metadata": {
        "id": "30CR2liGJoNP"
      }
    },
    {
      "cell_type": "code",
      "source": [
        "model_with_32 = build_model(include_32_layer=True)\n",
        "history_with_32 = model_with_32.fit(x_train_norm, y_train, epochs=5, batch_size=32, validation_split=0.1, verbose=2)\n",
        "print(\"Train accuracy (with extra 32-neuron layer):\", history_with_32.history['accuracy'][-1])\n",
        "test_loss32, test_acc32 = model_with_32.evaluate(x_test_norm, y_test, verbose=2)\n",
        "print(\"Test accuracy (with extra 32-neuron layer):\", test_acc32)"
      ],
      "metadata": {
        "colab": {
          "base_uri": "https://localhost:8080/"
        },
        "id": "eppNzyaCJgup",
        "outputId": "be8315c2-4a48-4a63-9110-41a18cc847cc"
      },
      "execution_count": 9,
      "outputs": [
        {
          "output_type": "stream",
          "name": "stdout",
          "text": [
            "Epoch 1/5\n",
            "1688/1688 - 8s - 5ms/step - accuracy: 0.9225 - loss: 0.2591 - val_accuracy: 0.9682 - val_loss: 0.1125\n",
            "Epoch 2/5\n",
            "1688/1688 - 5s - 3ms/step - accuracy: 0.9674 - loss: 0.1085 - val_accuracy: 0.9730 - val_loss: 0.0974\n",
            "Epoch 3/5\n",
            "1688/1688 - 7s - 4ms/step - accuracy: 0.9770 - loss: 0.0750 - val_accuracy: 0.9693 - val_loss: 0.1032\n",
            "Epoch 4/5\n",
            "1688/1688 - 5s - 3ms/step - accuracy: 0.9826 - loss: 0.0558 - val_accuracy: 0.9772 - val_loss: 0.0895\n",
            "Epoch 5/5\n",
            "1688/1688 - 7s - 4ms/step - accuracy: 0.9854 - loss: 0.0444 - val_accuracy: 0.9730 - val_loss: 0.1047\n",
            "Train accuracy (with extra 32-neuron layer): 0.9854444265365601\n",
            "313/313 - 1s - 2ms/step - accuracy: 0.9691 - loss: 0.1172\n",
            "Test accuracy (with extra 32-neuron layer): 0.9690999984741211\n"
          ]
        }
      ]
    },
    {
      "cell_type": "code",
      "source": [
        "model_sgd = build_model(optimizer='sgd')\n",
        "history_sgd = model_sgd.fit(x_train_norm, y_train, epochs=5, batch_size=32, validation_split=0.1, verbose=2)\n",
        "print(\"Train acc (sgd):\", history_sgd.history['accuracy'][-1])\n",
        "test_loss_sgd, test_acc_sgd = model_sgd.evaluate(x_test_norm, y_test, verbose=2)\n",
        "print(\"Test acc (sgd):\", test_acc_sgd)"
      ],
      "metadata": {
        "colab": {
          "base_uri": "https://localhost:8080/"
        },
        "id": "TU7c3JqBJgk6",
        "outputId": "4343e1ec-b305-4f6f-c0ab-ce18549077ca"
      },
      "execution_count": 10,
      "outputs": [
        {
          "output_type": "stream",
          "name": "stdout",
          "text": [
            "Epoch 1/5\n",
            "1688/1688 - 5s - 3ms/step - accuracy: 0.8330 - loss: 0.6353 - val_accuracy: 0.9260 - val_loss: 0.2712\n",
            "Epoch 2/5\n",
            "1688/1688 - 4s - 2ms/step - accuracy: 0.9139 - loss: 0.2995 - val_accuracy: 0.9392 - val_loss: 0.2174\n",
            "Epoch 3/5\n",
            "1688/1688 - 5s - 3ms/step - accuracy: 0.9272 - loss: 0.2504 - val_accuracy: 0.9477 - val_loss: 0.1881\n",
            "Epoch 4/5\n",
            "1688/1688 - 4s - 2ms/step - accuracy: 0.9364 - loss: 0.2178 - val_accuracy: 0.9538 - val_loss: 0.1673\n",
            "Epoch 5/5\n",
            "1688/1688 - 5s - 3ms/step - accuracy: 0.9436 - loss: 0.1931 - val_accuracy: 0.9580 - val_loss: 0.1522\n",
            "Train acc (sgd): 0.9436296224594116\n",
            "313/313 - 1s - 3ms/step - accuracy: 0.9460 - loss: 0.1811\n",
            "Test acc (sgd): 0.9459999799728394\n"
          ]
        }
      ]
    },
    {
      "cell_type": "code",
      "source": [
        "model_1epoch = build_model()\n",
        "history_1epoch = model_1epoch.fit(x_train_norm, y_train, epochs=1, batch_size=32, validation_split=0.1, verbose=2)\n",
        "print(\"Train acc after 1 epoch:\", history_1epoch.history['accuracy'][-1])"
      ],
      "metadata": {
        "colab": {
          "base_uri": "https://localhost:8080/"
        },
        "id": "VjMsEnnWJygF",
        "outputId": "24f527c9-dbce-4232-9924-f230cfcace93"
      },
      "execution_count": 11,
      "outputs": [
        {
          "output_type": "stream",
          "name": "stdout",
          "text": [
            "1688/1688 - 6s - 4ms/step - accuracy: 0.9272 - loss: 0.2490 - val_accuracy: 0.9660 - val_loss: 0.1081\n",
            "Train acc after 1 epoch: 0.9272222518920898\n"
          ]
        }
      ]
    },
    {
      "cell_type": "code",
      "source": [
        "model_tanh = build_model(activation='tanh')\n",
        "history_tanh = model_tanh.fit(x_train_norm, y_train, epochs=5, batch_size=32, validation_split=0.1, verbose=2)\n",
        "print(\"Train acc (tanh):\", history_tanh.history['accuracy'][-1])\n",
        "test_loss_tanh, test_acc_tanh = model_tanh.evaluate(x_test_norm, y_test, verbose=2)\n",
        "print(\"Test acc (tanh):\", test_acc_tanh)"
      ],
      "metadata": {
        "colab": {
          "base_uri": "https://localhost:8080/"
        },
        "id": "ze0Rn5ZbJ347",
        "outputId": "24c64e64-67f8-41e8-c222-042d1db14046"
      },
      "execution_count": 12,
      "outputs": [
        {
          "output_type": "stream",
          "name": "stdout",
          "text": [
            "Epoch 1/5\n",
            "1688/1688 - 7s - 4ms/step - accuracy: 0.9188 - loss: 0.2790 - val_accuracy: 0.9595 - val_loss: 0.1406\n",
            "Epoch 2/5\n",
            "1688/1688 - 9s - 6ms/step - accuracy: 0.9619 - loss: 0.1276 - val_accuracy: 0.9677 - val_loss: 0.1098\n",
            "Epoch 3/5\n",
            "1688/1688 - 6s - 4ms/step - accuracy: 0.9755 - loss: 0.0834 - val_accuracy: 0.9720 - val_loss: 0.0933\n",
            "Epoch 4/5\n",
            "1688/1688 - 5s - 3ms/step - accuracy: 0.9834 - loss: 0.0581 - val_accuracy: 0.9742 - val_loss: 0.0860\n",
            "Epoch 5/5\n",
            "1688/1688 - 6s - 4ms/step - accuracy: 0.9888 - loss: 0.0407 - val_accuracy: 0.9755 - val_loss: 0.0836\n",
            "Train acc (tanh): 0.9888333082199097\n",
            "313/313 - 1s - 2ms/step - accuracy: 0.9723 - loss: 0.0922\n",
            "Test acc (tanh): 0.9722999930381775\n"
          ]
        }
      ]
    },
    {
      "cell_type": "code",
      "source": [
        "import matplotlib.pyplot as plt\n",
        "train_acc = history_10.history['accuracy']\n",
        "val_acc = history_10.history['val_accuracy']\n",
        "epochs = range(1, len(train_acc) + 1)\n",
        "\n",
        "plt.plot(epochs, train_acc, 'o-', label='Training Accuracy')\n",
        "plt.plot(epochs, val_acc, 'o-', label='Validation Accuracy')\n",
        "\n",
        "plt.title('Training vs Validation Accuracy')\n",
        "plt.xlabel('Epoch')\n",
        "plt.ylabel('Accuracy')\n",
        "plt.legend()\n",
        "plt.grid(True)\n",
        "plt.show()"
      ],
      "metadata": {
        "colab": {
          "base_uri": "https://localhost:8080/",
          "height": 472
        },
        "id": "hRqcW7Q2MM_Y",
        "outputId": "c8f69664-de27-4e57-bd6d-97ec68c71364"
      },
      "execution_count": 19,
      "outputs": [
        {
          "output_type": "display_data",
          "data": {
            "text/plain": [
              "<Figure size 640x480 with 1 Axes>"
            ],
            "image/png": "[encoded data removed]"
          },
          "metadata": {}
        }
      ]
    }
  ]
}